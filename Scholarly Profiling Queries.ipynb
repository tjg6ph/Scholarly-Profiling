{
 "cells": [
  {
   "cell_type": "markdown",
   "id": "6697b6a3",
   "metadata": {},
   "source": [
    "# Import Packages"
   ]
  },
  {
   "cell_type": "code",
   "execution_count": null,
   "id": "a6fdf539",
   "metadata": {},
   "outputs": [],
   "source": [
    "!pip install sparqlwrapper"
   ]
  },
  {
   "cell_type": "code",
   "execution_count": null,
   "id": "b868d3db",
   "metadata": {},
   "outputs": [],
   "source": [
    "import pandas as pd\n",
    "from SPARQLWrapper import SPARQLWrapper, JSON"
   ]
  },
  {
   "cell_type": "code",
   "execution_count": null,
   "id": "93f4d605",
   "metadata": {},
   "outputs": [],
   "source": [
    "def select(query, service='https://query.wikidata.org/sparql'):\n",
    "    sparql = SPARQLWrapper(service)\n",
    "    sparql.setQuery(query)\n",
    "    sparql.setReturnFormat(JSON)\n",
    "    result = sparql.query().convert()\n",
    "    return pd.json_normalize(result['results']['bindings'])"
   ]
  },
  {
   "cell_type": "markdown",
   "id": "e39b4eac",
   "metadata": {},
   "source": [
    "## 1.1 Olympians"
   ]
  },
  {
   "cell_type": "code",
   "execution_count": null,
   "id": "7da5b728",
   "metadata": {},
   "outputs": [],
   "source": [
    "query_string = \"\"\"\n",
    "SELECT\n",
    "  ?person ?personLabel ?sexgenderLabel\n",
    "WHERE\n",
    "{\n",
    "  ?person wdt:P3171 ?value .\n",
    "  SERVICE wikibase:label { bd:serviceParam wikibase:language \"en\" . }\n",
    "}\n",
    "LIMIT 30000\n",
    "\"\"\"\n",
    "result=select(query_string)\n",
    "result.to_csv(\"Olympians.csv\")\n",
    "result"
   ]
  },
  {
   "cell_type": "markdown",
   "id": "db272e23",
   "metadata": {},
   "source": [
    "## 1.2 Olympians with Sex or Gender"
   ]
  },
  {
   "cell_type": "code",
   "execution_count": null,
   "id": "b8b28ae6",
   "metadata": {},
   "outputs": [],
   "source": [
    "query_string = \"\"\"\n",
    "SELECT\n",
    "  ?person ?personLabel ?sexgenderLabel\n",
    "WHERE\n",
    "{\n",
    "  ?person wdt:P3171 ?value .\n",
    "  OPTIONAL { ?person wdt:P21 ?sexgender . }\n",
    "  SERVICE wikibase:label { bd:serviceParam wikibase:language \"en\" . }\n",
    "}\n",
    "LIMIT 30000\n",
    "\"\"\"\n",
    "result=select(query_string)\n",
    "result.to_csv(\"Olympians_sex_or_gender.csv\")\n",
    "result"
   ]
  },
  {
   "cell_type": "markdown",
   "id": "d80d207b",
   "metadata": {},
   "source": [
    "## 1.3 Olympians with Sports"
   ]
  },
  {
   "cell_type": "code",
   "execution_count": null,
   "id": "c125fdeb",
   "metadata": {},
   "outputs": [],
   "source": [
    "query_string = \"\"\"\n",
    "SELECT\n",
    "  ?person ?personLabel (GROUP_CONCAT(?sportLabel;SEPARATOR=', ') AS ?sports)\n",
    "WHERE\n",
    "{\n",
    "  ?person wdt:P3171 ?value .\n",
    "  OPTIONAL { ?person wdt:P106 ?sport .\n",
    "    ?sport rdfs:label ?sportLabel . FILTER(LANG(?sportLabel)='en') }\n",
    "  SERVICE wikibase:label { bd:serviceParam wikibase:language \"en\" . }\n",
    "}\n",
    "GROUP BY ?person ?personLabel\n",
    "LIMIT 30000\n",
    "\"\"\"\n",
    "result=select(query_string)\n",
    "result.to_csv(\"Olympians_sports.csv\")\n",
    "result"
   ]
  },
  {
   "cell_type": "markdown",
   "id": "17eb4089",
   "metadata": {},
   "source": [
    "## 1.4 Olympians with All Demographic Categories"
   ]
  },
  {
   "cell_type": "code",
   "execution_count": null,
   "id": "17d60313",
   "metadata": {},
   "outputs": [],
   "source": [
    "query_string = \"\"\"\n",
    "SELECT\n",
    "  ?person ?personLabel ?sexgenderLabel (GROUP_CONCAT(?sportLabel;SEPARATOR=', ') AS ?sports)\n",
    "WHERE\n",
    "{\n",
    "  ?person wdt:P3171 ?value .\n",
    "  OPTIONAL { ?person wdt:P21 ?sexgender . }\n",
    "  OPTIONAL { ?person wdt:P106 ?sport .\n",
    "           ?sport rdfs:label ?sportLabel . FILTER(LANG(?sportLabel)='en') }\n",
    "  SERVICE wikibase:label { bd:serviceParam wikibase:language \"en\" . }\n",
    "}\n",
    "GROUP BY ?person ?personLabel ?sexgenderLabel\n",
    "LIMIT 30000\n",
    "\"\"\"\n",
    "result=select(query_string)\n",
    "result.to_csv(\"Olympians_complete.csv\")\n",
    "result"
   ]
  },
  {
   "cell_type": "markdown",
   "id": "2e9b99e5",
   "metadata": {},
   "source": [
    "## 2.1 People With Medical Conditions"
   ]
  },
  {
   "cell_type": "code",
   "execution_count": null,
   "id": "2d6e1074",
   "metadata": {},
   "outputs": [],
   "source": [
    "query_string = \"\"\"\n",
    "SELECT ?person ?personLabel (GROUP_CONCAT(DISTINCT ?conditionLabel;SEPARATOR=', ') AS ?conditions) \n",
    "WHERE\n",
    "{\n",
    "  ?person wdt:P31 wd:Q5 .\n",
    "  ?person wdt:P1050 ?condition .\n",
    "  ?condition rdfs:label ?conditionLabel . FILTER(LANG(?conditionLabel)='en')\n",
    "  SERVICE wikibase:label { bd:serviceParam wikibase:language \"en\" . }\n",
    "}\n",
    "GROUP BY ?person ?personLabel\n",
    "\"\"\"\n",
    "\n",
    "result=select(query_string)\n",
    "result.to_csv(\"Medical_conditions.csv\")\n",
    "result"
   ]
  },
  {
   "cell_type": "markdown",
   "id": "b71c8fd1",
   "metadata": {},
   "source": [
    "## 2.2 People With Medical Conditions and Sex or Gender"
   ]
  },
  {
   "cell_type": "code",
   "execution_count": null,
   "id": "0b074f5f",
   "metadata": {},
   "outputs": [],
   "source": [
    "query_string = \"\"\"\n",
    "SELECT \n",
    "  ?person ?personLabel ?sexgenderLabel (GROUP_CONCAT(DISTINCT ?conditionLabel;SEPARATOR=', ') AS ?conditions) \n",
    "WHERE\n",
    "{\n",
    "  ?person wdt:P31 wd:Q5 .\n",
    "  ?person wdt:P1050 ?condition .\n",
    "  ?condition rdfs:label ?conditionLabel . FILTER(LANG(?conditionLabel)='en')\n",
    "  OPTIONAL { ?person wdt:P21 ?sexgender . }\n",
    "  SERVICE wikibase:label { bd:serviceParam wikibase:language \"en\" . }\n",
    "}\n",
    "GROUP BY ?person ?personLabel ?sexgenderLabel\n",
    "\"\"\"\n",
    "\n",
    "result=select(query_string)\n",
    "result.to_csv(\"Medical_conditions_sex_or_gender.csv\")\n",
    "result"
   ]
  },
  {
   "cell_type": "markdown",
   "id": "2affb5e2",
   "metadata": {},
   "source": [
    "## 2.3 People With Medical Conditions and Cause of Death"
   ]
  },
  {
   "cell_type": "code",
   "execution_count": null,
   "id": "88a9cacf",
   "metadata": {},
   "outputs": [],
   "source": [
    "query_string = \"\"\"\n",
    "SELECT ?person ?personLabel (GROUP_CONCAT(DISTINCT ?conditionLabel;SEPARATOR=', ') AS ?conditions) (GROUP_CONCAT(DISTINCT ?causedeathLabel;SEPARATOR=', ') AS ?causedeath)\n",
    "WHERE\n",
    "{\n",
    "  ?person wdt:P31 wd:Q5 .\n",
    "  ?person wdt:P1050 ?condition .\n",
    "  ?condition rdfs:label ?conditionLabel . FILTER(LANG(?conditionLabel)='en')\n",
    "  OPTIONAL { ?person wdt:P509 ?causedeath .\n",
    "           ?causedeath rdfs:label ?causedeathLabel . FILTER(LANG(?causedeathLabel)='en') }\n",
    "  SERVICE wikibase:label { bd:serviceParam wikibase:language \"en\" . }\n",
    "}\n",
    "GROUP BY ?person ?personLabel\n",
    "\"\"\"\n",
    "\n",
    "result=select(query_string)\n",
    "result.to_csv(\"Medical_conditions_cause_of_death.csv\")\n",
    "result"
   ]
  },
  {
   "cell_type": "markdown",
   "id": "1ac5f056",
   "metadata": {},
   "source": [
    "## 2.4 People With Sexually-Transmitted Infections"
   ]
  },
  {
   "cell_type": "code",
   "execution_count": null,
   "id": "ffd99e3f",
   "metadata": {},
   "outputs": [],
   "source": [
    "query_string = \"\"\"\n",
    "SELECT ?person ?personLabel (GROUP_CONCAT(DISTINCT ?conditionLabel;SEPARATOR=', ') AS ?conditions) \n",
    "WHERE\n",
    "{\n",
    "  ?person wdt:P31 wd:Q5 .\n",
    "  ?person wdt:P1050 ?condition .\n",
    "  ?condition wdt:P279 wd:Q12198 .\n",
    "  ?condition rdfs:label ?conditionLabel . FILTER(LANG(?conditionLabel)='en')\n",
    "  SERVICE wikibase:label { bd:serviceParam wikibase:language \"en\" . }\n",
    "}\n",
    "GROUP BY ?person ?personLabel\n",
    "\"\"\"\n",
    "\n",
    "result=select(query_string)\n",
    "result.to_csv(\"Medical_conditions_STIs.csv\")\n",
    "result"
   ]
  },
  {
   "cell_type": "markdown",
   "id": "7149ca3a",
   "metadata": {},
   "source": [
    "## 2.5 People With STIs, Sex or Gender, and Cause of Death"
   ]
  },
  {
   "cell_type": "code",
   "execution_count": null,
   "id": "40b18826",
   "metadata": {},
   "outputs": [],
   "source": [
    "query_string = \"\"\"\n",
    "SELECT ?person ?personLabel ?sexgenderLabel (GROUP_CONCAT(DISTINCT ?conditionLabel;SEPARATOR=', ') AS ?conditions) \n",
    "  (GROUP_CONCAT(DISTINCT ?causedeathLabel;SEPARATOR=', ') AS ?causedeath)\n",
    "WHERE\n",
    "{\n",
    "  ?person wdt:P31 wd:Q5 .\n",
    "  OPTIONAL { ?person wdt:P21 ?sexgender . }\n",
    "  ?person wdt:P1050 ?condition .\n",
    "  ?condition wdt:P279+ wd:Q12198 .\n",
    "  ?condition rdfs:label ?conditionLabel . FILTER(LANG(?conditionLabel)='en')\n",
    "  OPTIONAL { ?person wdt:P509 ?causedeath .\n",
    "           ?causedeath rdfs:label ?causedeathLabel . FILTER(LANG(?causedeathLabel)='en') }\n",
    "  SERVICE wikibase:label { bd:serviceParam wikibase:language \"en\" . }\n",
    "}\n",
    "GROUP BY ?person ?personLabel ?sexgenderLabel\n",
    "ORDER BY ?personLabel\n",
    "\"\"\"\n",
    "\n",
    "result=select(query_string)\n",
    "result.to_csv(\"Medical_conditions_STIs_complete.csv\")\n",
    "result"
   ]
  },
  {
   "cell_type": "markdown",
   "id": "73dc29dd",
   "metadata": {},
   "source": [
    "## 3.1 University of Virginia Employees"
   ]
  },
  {
   "cell_type": "code",
   "execution_count": null,
   "id": "1bddb906",
   "metadata": {},
   "outputs": [],
   "source": [
    "query_string = \"\"\"\n",
    "SELECT\n",
    "  ?person ?personLabel\n",
    "WHERE\n",
    "{\n",
    "  ?person wdt:P108 wd:Q213439 .\n",
    "  ?person rdfs:label ?personLabel . FILTER(LANG(?personLabel)='en')\n",
    "}\n",
    "\"\"\"\n",
    "result=select(query_string)\n",
    "result.to_csv(\"UVA_employees.csv\")\n",
    "result"
   ]
  },
  {
   "cell_type": "markdown",
   "id": "84e7940b",
   "metadata": {},
   "source": [
    "## 3.2 UVA Employees with Sex or Gender"
   ]
  },
  {
   "cell_type": "code",
   "execution_count": null,
   "id": "3d2c828b",
   "metadata": {},
   "outputs": [],
   "source": [
    "query_string = \"\"\"\n",
    "SELECT\n",
    "  ?person ?personLabel ?sexorgender\n",
    "WHERE\n",
    "{\n",
    "  ?person wdt:P108 wd:Q213439 .\n",
    "  ?person rdfs:label ?personLabel . FILTER(LANG(?personLabel)='en')\n",
    "  OPTIONAL { ?person wdt:P21 ?value .\n",
    "    ?value rdfs:label ?sexorgender . FILTER(LANG(?sexorgender)='en') }\n",
    "}\n",
    "\"\"\"\n",
    "result=select(query_string)\n",
    "result.to_csv(\"UVA_employees_sex_or_gender.csv\")\n",
    "result"
   ]
  },
  {
   "cell_type": "markdown",
   "id": "84c753fc",
   "metadata": {},
   "source": [
    "## 3.3 UVA Employees with Ethnicity"
   ]
  },
  {
   "cell_type": "code",
   "execution_count": null,
   "id": "1a33b334",
   "metadata": {},
   "outputs": [],
   "source": [
    "query_string = \"\"\"\n",
    "SELECT\n",
    "  ?person ?personLabel (GROUP_CONCAT(DISTINCT ?ethnicityLabel;SEPARATOR=', ') AS ?ethnicity)\n",
    "WHERE\n",
    "{\n",
    "  ?person wdt:P108 wd:Q213439 .\n",
    "  ?person rdfs:label ?personLabel . FILTER(LANG(?personLabel)='en')\n",
    "  OPTIONAL { ?person wdt:P172 ?ethnicity .\n",
    "    ?ethnicity rdfs:label ?ethnicityLabel . FILTER(LANG(?ethnicityLabel)='en') }\n",
    "}\n",
    "GROUP BY ?person ?personLabel\n",
    "\"\"\"\n",
    "result=select(query_string)\n",
    "result.to_csv(\"UVA_employees_ethnicity.csv\")\n",
    "result"
   ]
  },
  {
   "cell_type": "markdown",
   "id": "86a9b3e9",
   "metadata": {},
   "source": [
    "## 3.4 UVA Employees with Birthplace"
   ]
  },
  {
   "cell_type": "code",
   "execution_count": null,
   "id": "ed01d95e",
   "metadata": {},
   "outputs": [],
   "source": [
    "query_string = \"\"\"\n",
    "SELECT\n",
    "  ?person ?personLabel ?birthplace\n",
    "WHERE\n",
    "{\n",
    "  ?person wdt:P108 wd:Q213439 .\n",
    "  ?person rdfs:label ?personLabel . FILTER(LANG(?personLabel)='en')\n",
    "  OPTIONAL { ?person wdt:P19 ?value . \n",
    "    ?value rdfs:label ?birthplace . FILTER(LANG(?birthplace)='en') }\n",
    "}\n",
    "\"\"\"\n",
    "result=select(query_string)\n",
    "result.to_csv(\"UVA_employees_birthplace.csv\")\n",
    "result"
   ]
  },
  {
   "cell_type": "markdown",
   "id": "d9819489",
   "metadata": {},
   "source": [
    "## 3.5 UVA Employees with Citizenship"
   ]
  },
  {
   "cell_type": "code",
   "execution_count": null,
   "id": "65d2099c",
   "metadata": {},
   "outputs": [],
   "source": [
    "query_string = \"\"\"\n",
    "SELECT\n",
    "  ?person ?personLabel (GROUP_CONCAT(DISTINCT ?citizenshipLabel;SEPARATOR=', ') AS ?citizenship)\n",
    "WHERE\n",
    "{\n",
    "  ?person wdt:P108 wd:Q213439 .\n",
    "  ?person rdfs:label ?personLabel . FILTER(LANG(?personLabel)='en')\n",
    "  OPTIONAL { ?person wdt:P27 ?citizenship .\n",
    "    ?citizenship rdfs:label ?citizenshipLabel . FILTER(LANG(?citizenshipLabel)='en') }\n",
    "}\n",
    "GROUP BY ?person ?personLabel\n",
    "\"\"\"\n",
    "result=select(query_string)\n",
    "result.to_csv(\"UVA_employees_birthplace.csv\")\n",
    "result"
   ]
  },
  {
   "cell_type": "markdown",
   "id": "27cbb85d",
   "metadata": {},
   "source": [
    "## 3.6 UVA Employees with Religion"
   ]
  },
  {
   "cell_type": "code",
   "execution_count": null,
   "id": "e4bd1aa9",
   "metadata": {},
   "outputs": [],
   "source": [
    "query_string = \"\"\"\n",
    "SELECT\n",
    "  ?person ?personLabel ?religion\n",
    "WHERE\n",
    "{\n",
    "  ?person wdt:P108 wd:Q213439 .\n",
    "  ?person rdfs:label ?personLabel . FILTER(LANG(?personLabel)='en')\n",
    "  OPTIONAL { ?person wdt:P140 ?value .\n",
    "    ?value rdfs:label ?religion . FILTER(LANG(?religion)='en') }\n",
    "}\n",
    "\"\"\"\n",
    "result=select(query_string)\n",
    "result.to_csv(\"UVA_employees_religion.csv\")\n",
    "result"
   ]
  },
  {
   "cell_type": "markdown",
   "id": "c4591851",
   "metadata": {},
   "source": [
    "## 3.7 UVA Employees with Sexuality"
   ]
  },
  {
   "cell_type": "code",
   "execution_count": null,
   "id": "77bb2c5f",
   "metadata": {},
   "outputs": [],
   "source": [
    "query_string = \"\"\"\n",
    "SELECT\n",
    "  ?person ?personLabel ?sexuality\n",
    "WHERE\n",
    "{\n",
    "  ?person wdt:P108 wd:Q213439 .\n",
    "  ?person rdfs:label ?personLabel . FILTER(LANG(?personLabel)='en')\n",
    "  OPTIONAL { ?person wdt:P91 ?value4 .\n",
    "    ?value4 rdfs:label ?sexuality . FILTER(LANG(?sexuality)='en') }\n",
    "}\n",
    "\"\"\"\n",
    "result=select(query_string)\n",
    "result.to_csv(\"UVA_employees_sexuality.csv\")\n",
    "result"
   ]
  },
  {
   "cell_type": "markdown",
   "id": "24128b37",
   "metadata": {},
   "source": [
    "## 3.8 UVA Employees with All Demographic Categories"
   ]
  },
  {
   "cell_type": "code",
   "execution_count": null,
   "id": "fe8972bb",
   "metadata": {},
   "outputs": [],
   "source": [
    "query_string = \"\"\"\n",
    "SELECT\n",
    "  ?person ?personLabel ?sexorgender (GROUP_CONCAT(DISTINCT ?ethnicityLabel;SEPARATOR=', ') AS ?ethnicity) \n",
    "  ?birthplace (GROUP_CONCAT(DISTINCT ?citizenshipLabel;SEPARATOR=', ') AS ?citizenship) ?religion \n",
    "  ?sexuality\n",
    "WHERE\n",
    "{\n",
    "  ?person wdt:P108 wd:Q213439 .\n",
    "  ?person rdfs:label ?personLabel . FILTER(LANG(?personLabel)='en')\n",
    "  OPTIONAL { ?person wdt:P21 ?value .\n",
    "           ?value rdfs:label ?sexorgender . FILTER(LANG(?sexorgender)='en') }\n",
    "  OPTIONAL { ?person wdt:P172 ?ethnicity .\n",
    "           ?ethnicity rdfs:label ?ethnicityLabel . FILTER(LANG(?ethnicityLabel)='en') }\n",
    "  OPTIONAL { ?person wdt:P19 ?value2 . \n",
    "           ?value2 rdfs:label ?birthplace . FILTER(LANG(?birthplace)='en') }\n",
    "  OPTIONAL { ?person wdt:P27 ?citizenship .\n",
    "           ?citizenship rdfs:label ?citizenshipLabel . FILTER(LANG(?citizenshipLabel)='en') }\n",
    "  OPTIONAL { ?person wdt:P140 ?value3 .\n",
    "           ?value3 rdfs:label ?religion . FILTER(LANG(?religion)='en') }\n",
    "  OPTIONAL { ?person wdt:P91 ?value4 .\n",
    "           ?value4 rdfs:label ?sexuality . FILTER(LANG(?sexuality)='en') }\n",
    "}\n",
    "GROUP BY ?person ?personLabel ?sexorgender ?birthplace ?religion ?sexuality\n",
    "\"\"\"\n",
    "\n",
    "result=select(query_string)\n",
    "result.to_csv(\"UVA_employees_complete.csv\")\n",
    "result"
   ]
  }
 ],
 "metadata": {
  "kernelspec": {
   "display_name": "Python 3 (ipykernel)",
   "language": "python",
   "name": "python3"
  },
  "language_info": {
   "codemirror_mode": {
    "name": "ipython",
    "version": 3
   },
   "file_extension": ".py",
   "mimetype": "text/x-python",
   "name": "python",
   "nbconvert_exporter": "python",
   "pygments_lexer": "ipython3",
   "version": "3.7.1"
  }
 },
 "nbformat": 4,
 "nbformat_minor": 5
}
