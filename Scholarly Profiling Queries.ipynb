{
 "cells": [
  {
   "cell_type": "markdown",
   "id": "6697b6a3",
   "metadata": {},
   "source": [
    "# Import Packages"
   ]
  },
  {
   "cell_type": "code",
   "execution_count": 1,
   "id": "a6fdf539",
   "metadata": {},
   "outputs": [
    {
     "name": "stdout",
     "output_type": "stream",
     "text": [
      "Requirement already satisfied: sparqlwrapper in c:\\users\\tanner\\appdata\\local\\programs\\python\\python37\\lib\\site-packages (1.8.5)\n",
      "Requirement already satisfied: rdflib>=4.0 in c:\\users\\tanner\\appdata\\local\\programs\\python\\python37\\lib\\site-packages (from sparqlwrapper) (6.1.1)\n",
      "Requirement already satisfied: isodate in c:\\users\\tanner\\appdata\\local\\programs\\python\\python37\\lib\\site-packages (from rdflib>=4.0->sparqlwrapper) (0.6.1)\n",
      "Requirement already satisfied: importlib-metadata in c:\\users\\tanner\\appdata\\local\\programs\\python\\python37\\lib\\site-packages (from rdflib>=4.0->sparqlwrapper) (4.10.1)\n",
      "Requirement already satisfied: setuptools in c:\\users\\tanner\\appdata\\local\\programs\\python\\python37\\lib\\site-packages (from rdflib>=4.0->sparqlwrapper) (39.0.1)\n",
      "Requirement already satisfied: pyparsing in c:\\users\\tanner\\appdata\\local\\programs\\python\\python37\\lib\\site-packages (from rdflib>=4.0->sparqlwrapper) (3.0.7)\n",
      "Requirement already satisfied: typing-extensions>=3.6.4 in c:\\users\\tanner\\appdata\\local\\programs\\python\\python37\\lib\\site-packages (from importlib-metadata->rdflib>=4.0->sparqlwrapper) (4.0.1)\n",
      "Requirement already satisfied: zipp>=0.5 in c:\\users\\tanner\\appdata\\local\\programs\\python\\python37\\lib\\site-packages (from importlib-metadata->rdflib>=4.0->sparqlwrapper) (3.7.0)\n",
      "Requirement already satisfied: six in c:\\users\\tanner\\appdata\\roaming\\python\\python37\\site-packages (from isodate->rdflib>=4.0->sparqlwrapper) (1.12.0)\n"
     ]
    }
   ],
   "source": [
    "!pip install sparqlwrapper"
   ]
  },
  {
   "cell_type": "code",
   "execution_count": 2,
   "id": "b868d3db",
   "metadata": {},
   "outputs": [],
   "source": [
    "import pandas as pd\n",
    "from SPARQLWrapper import SPARQLWrapper, JSON"
   ]
  },
  {
   "cell_type": "code",
   "execution_count": 3,
   "id": "93f4d605",
   "metadata": {},
   "outputs": [],
   "source": [
    "def select(query, service='https://query.wikidata.org/sparql'):\n",
    "    sparql = SPARQLWrapper(service)\n",
    "    sparql.setQuery(query)\n",
    "    sparql.setReturnFormat(JSON)\n",
    "    result = sparql.query().convert()\n",
    "    return pd.json_normalize(result['results']['bindings'])"
   ]
  },
  {
   "cell_type": "markdown",
   "id": "e39b4eac",
   "metadata": {},
   "source": [
    "## 1.1 Olympians"
   ]
  },
  {
   "cell_type": "code",
   "execution_count": 4,
   "id": "7da5b728",
   "metadata": {},
   "outputs": [
    {
     "data": {
      "text/html": [
       "<div>\n",
       "<style scoped>\n",
       "    .dataframe tbody tr th:only-of-type {\n",
       "        vertical-align: middle;\n",
       "    }\n",
       "\n",
       "    .dataframe tbody tr th {\n",
       "        vertical-align: top;\n",
       "    }\n",
       "\n",
       "    .dataframe thead th {\n",
       "        text-align: right;\n",
       "    }\n",
       "</style>\n",
       "<table border=\"1\" class=\"dataframe\">\n",
       "  <thead>\n",
       "    <tr style=\"text-align: right;\">\n",
       "      <th></th>\n",
       "      <th>person.type</th>\n",
       "      <th>person.value</th>\n",
       "      <th>personLabel.xml:lang</th>\n",
       "      <th>personLabel.type</th>\n",
       "      <th>personLabel.value</th>\n",
       "    </tr>\n",
       "  </thead>\n",
       "  <tbody>\n",
       "    <tr>\n",
       "      <th>0</th>\n",
       "      <td>uri</td>\n",
       "      <td>http://www.wikidata.org/entity/Q1681</td>\n",
       "      <td>en</td>\n",
       "      <td>literal</td>\n",
       "      <td>Abel Mutai</td>\n",
       "    </tr>\n",
       "    <tr>\n",
       "      <th>1</th>\n",
       "      <td>uri</td>\n",
       "      <td>http://www.wikidata.org/entity/Q1789</td>\n",
       "      <td>en</td>\n",
       "      <td>literal</td>\n",
       "      <td>Ashton Eaton</td>\n",
       "    </tr>\n",
       "    <tr>\n",
       "      <th>2</th>\n",
       "      <td>uri</td>\n",
       "      <td>http://www.wikidata.org/entity/Q1672</td>\n",
       "      <td>en</td>\n",
       "      <td>literal</td>\n",
       "      <td>Dejen Gebremeskel</td>\n",
       "    </tr>\n",
       "    <tr>\n",
       "      <th>3</th>\n",
       "      <td>uri</td>\n",
       "      <td>http://www.wikidata.org/entity/Q1712</td>\n",
       "      <td>en</td>\n",
       "      <td>literal</td>\n",
       "      <td>Erick Barrondo</td>\n",
       "    </tr>\n",
       "    <tr>\n",
       "      <th>4</th>\n",
       "      <td>uri</td>\n",
       "      <td>http://www.wikidata.org/entity/Q1956</td>\n",
       "      <td>en</td>\n",
       "      <td>literal</td>\n",
       "      <td>Hermann Maier</td>\n",
       "    </tr>\n",
       "    <tr>\n",
       "      <th>...</th>\n",
       "      <td>...</td>\n",
       "      <td>...</td>\n",
       "      <td>...</td>\n",
       "      <td>...</td>\n",
       "      <td>...</td>\n",
       "    </tr>\n",
       "    <tr>\n",
       "      <th>29658</th>\n",
       "      <td>uri</td>\n",
       "      <td>http://www.wikidata.org/entity/Q453445</td>\n",
       "      <td>en</td>\n",
       "      <td>literal</td>\n",
       "      <td>Shelley Olds</td>\n",
       "    </tr>\n",
       "    <tr>\n",
       "      <th>29659</th>\n",
       "      <td>uri</td>\n",
       "      <td>http://www.wikidata.org/entity/Q4968493</td>\n",
       "      <td>en</td>\n",
       "      <td>literal</td>\n",
       "      <td>Sara Mustonen</td>\n",
       "    </tr>\n",
       "    <tr>\n",
       "      <th>29660</th>\n",
       "      <td>uri</td>\n",
       "      <td>http://www.wikidata.org/entity/Q4350864</td>\n",
       "      <td>en</td>\n",
       "      <td>literal</td>\n",
       "      <td>Mayuko Hagiwara</td>\n",
       "    </tr>\n",
       "    <tr>\n",
       "      <th>29661</th>\n",
       "      <td>uri</td>\n",
       "      <td>http://www.wikidata.org/entity/Q2480355</td>\n",
       "      <td>en</td>\n",
       "      <td>literal</td>\n",
       "      <td>Joelle Numainville</td>\n",
       "    </tr>\n",
       "    <tr>\n",
       "      <th>29662</th>\n",
       "      <td>uri</td>\n",
       "      <td>http://www.wikidata.org/entity/Q3048753</td>\n",
       "      <td>en</td>\n",
       "      <td>literal</td>\n",
       "      <td>Edwige Pitel</td>\n",
       "    </tr>\n",
       "  </tbody>\n",
       "</table>\n",
       "<p>29663 rows × 5 columns</p>\n",
       "</div>"
      ],
      "text/plain": [
       "      person.type                             person.value  \\\n",
       "0             uri     http://www.wikidata.org/entity/Q1681   \n",
       "1             uri     http://www.wikidata.org/entity/Q1789   \n",
       "2             uri     http://www.wikidata.org/entity/Q1672   \n",
       "3             uri     http://www.wikidata.org/entity/Q1712   \n",
       "4             uri     http://www.wikidata.org/entity/Q1956   \n",
       "...           ...                                      ...   \n",
       "29658         uri   http://www.wikidata.org/entity/Q453445   \n",
       "29659         uri  http://www.wikidata.org/entity/Q4968493   \n",
       "29660         uri  http://www.wikidata.org/entity/Q4350864   \n",
       "29661         uri  http://www.wikidata.org/entity/Q2480355   \n",
       "29662         uri  http://www.wikidata.org/entity/Q3048753   \n",
       "\n",
       "      personLabel.xml:lang personLabel.type   personLabel.value  \n",
       "0                       en          literal          Abel Mutai  \n",
       "1                       en          literal        Ashton Eaton  \n",
       "2                       en          literal   Dejen Gebremeskel  \n",
       "3                       en          literal      Erick Barrondo  \n",
       "4                       en          literal       Hermann Maier  \n",
       "...                    ...              ...                 ...  \n",
       "29658                   en          literal        Shelley Olds  \n",
       "29659                   en          literal       Sara Mustonen  \n",
       "29660                   en          literal     Mayuko Hagiwara  \n",
       "29661                   en          literal  Joelle Numainville  \n",
       "29662                   en          literal        Edwige Pitel  \n",
       "\n",
       "[29663 rows x 5 columns]"
      ]
     },
     "execution_count": 4,
     "metadata": {},
     "output_type": "execute_result"
    }
   ],
   "source": [
    "query_string = \"\"\"\n",
    "SELECT\n",
    "  ?person ?personLabel ?sexgenderLabel\n",
    "WHERE\n",
    "{\n",
    "  ?person wdt:P3171 ?value .\n",
    "  SERVICE wikibase:label { bd:serviceParam wikibase:language \"en\" . }\n",
    "}\n",
    "LIMIT 30000\n",
    "\"\"\"\n",
    "result=select(query_string)\n",
    "result.to_csv(\"Olympians.csv\")\n",
    "result"
   ]
  },
  {
   "cell_type": "markdown",
   "id": "db272e23",
   "metadata": {},
   "source": [
    "## 1.2 Olympians with Sex or Gender"
   ]
  },
  {
   "cell_type": "code",
   "execution_count": 5,
   "id": "b8b28ae6",
   "metadata": {},
   "outputs": [
    {
     "ename": "HTTPError",
     "evalue": "HTTP Error 429: Too Many Requests",
     "output_type": "error",
     "traceback": [
      "\u001b[1;31m---------------------------------------------------------------------------\u001b[0m",
      "\u001b[1;31mHTTPError\u001b[0m                                 Traceback (most recent call last)",
      "\u001b[1;32m~\\AppData\\Local\\Temp\\ipykernel_996\\1500426191.py\u001b[0m in \u001b[0;36m<module>\u001b[1;34m\u001b[0m\n\u001b[0;32m     10\u001b[0m \u001b[0mLIMIT\u001b[0m \u001b[1;36m30000\u001b[0m\u001b[1;33m\u001b[0m\u001b[1;33m\u001b[0m\u001b[0m\n\u001b[0;32m     11\u001b[0m \"\"\"\n\u001b[1;32m---> 12\u001b[1;33m \u001b[0mresult\u001b[0m\u001b[1;33m=\u001b[0m\u001b[0mselect\u001b[0m\u001b[1;33m(\u001b[0m\u001b[0mquery_string\u001b[0m\u001b[1;33m)\u001b[0m\u001b[1;33m\u001b[0m\u001b[1;33m\u001b[0m\u001b[0m\n\u001b[0m\u001b[0;32m     13\u001b[0m \u001b[0mresult\u001b[0m\u001b[1;33m.\u001b[0m\u001b[0mto_csv\u001b[0m\u001b[1;33m(\u001b[0m\u001b[1;34m\"Olympians_sex_or_gender.csv\"\u001b[0m\u001b[1;33m)\u001b[0m\u001b[1;33m\u001b[0m\u001b[1;33m\u001b[0m\u001b[0m\n\u001b[0;32m     14\u001b[0m \u001b[0mresult\u001b[0m\u001b[1;33m\u001b[0m\u001b[1;33m\u001b[0m\u001b[0m\n",
      "\u001b[1;32m~\\AppData\\Local\\Temp\\ipykernel_996\\3587219995.py\u001b[0m in \u001b[0;36mselect\u001b[1;34m(query, service)\u001b[0m\n\u001b[0;32m      3\u001b[0m     \u001b[0msparql\u001b[0m\u001b[1;33m.\u001b[0m\u001b[0msetQuery\u001b[0m\u001b[1;33m(\u001b[0m\u001b[0mquery\u001b[0m\u001b[1;33m)\u001b[0m\u001b[1;33m\u001b[0m\u001b[1;33m\u001b[0m\u001b[0m\n\u001b[0;32m      4\u001b[0m     \u001b[0msparql\u001b[0m\u001b[1;33m.\u001b[0m\u001b[0msetReturnFormat\u001b[0m\u001b[1;33m(\u001b[0m\u001b[0mJSON\u001b[0m\u001b[1;33m)\u001b[0m\u001b[1;33m\u001b[0m\u001b[1;33m\u001b[0m\u001b[0m\n\u001b[1;32m----> 5\u001b[1;33m     \u001b[0mresult\u001b[0m \u001b[1;33m=\u001b[0m \u001b[0msparql\u001b[0m\u001b[1;33m.\u001b[0m\u001b[0mquery\u001b[0m\u001b[1;33m(\u001b[0m\u001b[1;33m)\u001b[0m\u001b[1;33m.\u001b[0m\u001b[0mconvert\u001b[0m\u001b[1;33m(\u001b[0m\u001b[1;33m)\u001b[0m\u001b[1;33m\u001b[0m\u001b[1;33m\u001b[0m\u001b[0m\n\u001b[0m\u001b[0;32m      6\u001b[0m     \u001b[1;32mreturn\u001b[0m \u001b[0mpd\u001b[0m\u001b[1;33m.\u001b[0m\u001b[0mjson_normalize\u001b[0m\u001b[1;33m(\u001b[0m\u001b[0mresult\u001b[0m\u001b[1;33m[\u001b[0m\u001b[1;34m'results'\u001b[0m\u001b[1;33m]\u001b[0m\u001b[1;33m[\u001b[0m\u001b[1;34m'bindings'\u001b[0m\u001b[1;33m]\u001b[0m\u001b[1;33m)\u001b[0m\u001b[1;33m\u001b[0m\u001b[1;33m\u001b[0m\u001b[0m\n",
      "\u001b[1;32mc:\\users\\tanner\\appdata\\local\\programs\\python\\python37\\lib\\site-packages\\SPARQLWrapper\\Wrapper.py\u001b[0m in \u001b[0;36mquery\u001b[1;34m(self)\u001b[0m\n\u001b[0;32m   1105\u001b[0m             \u001b[1;33m:\u001b[0m\u001b[0mrtype\u001b[0m\u001b[1;33m:\u001b[0m \u001b[1;33m:\u001b[0m\u001b[1;32mclass\u001b[0m\u001b[1;33m:\u001b[0m\u001b[0;31m`\u001b[0m\u001b[0mQueryResult\u001b[0m\u001b[0;31m`\u001b[0m \u001b[0minstance\u001b[0m\u001b[1;33m\u001b[0m\u001b[1;33m\u001b[0m\u001b[0m\n\u001b[0;32m   1106\u001b[0m         \"\"\"\n\u001b[1;32m-> 1107\u001b[1;33m         \u001b[1;32mreturn\u001b[0m \u001b[0mQueryResult\u001b[0m\u001b[1;33m(\u001b[0m\u001b[0mself\u001b[0m\u001b[1;33m.\u001b[0m\u001b[0m_query\u001b[0m\u001b[1;33m(\u001b[0m\u001b[1;33m)\u001b[0m\u001b[1;33m)\u001b[0m\u001b[1;33m\u001b[0m\u001b[1;33m\u001b[0m\u001b[0m\n\u001b[0m\u001b[0;32m   1108\u001b[0m \u001b[1;33m\u001b[0m\u001b[0m\n\u001b[0;32m   1109\u001b[0m     \u001b[1;32mdef\u001b[0m \u001b[0mqueryAndConvert\u001b[0m\u001b[1;33m(\u001b[0m\u001b[0mself\u001b[0m\u001b[1;33m)\u001b[0m\u001b[1;33m:\u001b[0m\u001b[1;33m\u001b[0m\u001b[1;33m\u001b[0m\u001b[0m\n",
      "\u001b[1;32mc:\\users\\tanner\\appdata\\local\\programs\\python\\python37\\lib\\site-packages\\SPARQLWrapper\\Wrapper.py\u001b[0m in \u001b[0;36m_query\u001b[1;34m(self)\u001b[0m\n\u001b[0;32m   1085\u001b[0m                 \u001b[1;32mraise\u001b[0m \u001b[0mEndPointInternalError\u001b[0m\u001b[1;33m(\u001b[0m\u001b[0me\u001b[0m\u001b[1;33m.\u001b[0m\u001b[0mread\u001b[0m\u001b[1;33m(\u001b[0m\u001b[1;33m)\u001b[0m\u001b[1;33m)\u001b[0m\u001b[1;33m\u001b[0m\u001b[1;33m\u001b[0m\u001b[0m\n\u001b[0;32m   1086\u001b[0m             \u001b[1;32melse\u001b[0m\u001b[1;33m:\u001b[0m\u001b[1;33m\u001b[0m\u001b[1;33m\u001b[0m\u001b[0m\n\u001b[1;32m-> 1087\u001b[1;33m                 \u001b[1;32mraise\u001b[0m \u001b[0me\u001b[0m\u001b[1;33m\u001b[0m\u001b[1;33m\u001b[0m\u001b[0m\n\u001b[0m\u001b[0;32m   1088\u001b[0m \u001b[1;33m\u001b[0m\u001b[0m\n\u001b[0;32m   1089\u001b[0m     \u001b[1;32mdef\u001b[0m \u001b[0mquery\u001b[0m\u001b[1;33m(\u001b[0m\u001b[0mself\u001b[0m\u001b[1;33m)\u001b[0m\u001b[1;33m:\u001b[0m\u001b[1;33m\u001b[0m\u001b[1;33m\u001b[0m\u001b[0m\n",
      "\u001b[1;32mc:\\users\\tanner\\appdata\\local\\programs\\python\\python37\\lib\\site-packages\\SPARQLWrapper\\Wrapper.py\u001b[0m in \u001b[0;36m_query\u001b[1;34m(self)\u001b[0m\n\u001b[0;32m   1071\u001b[0m                 \u001b[0mresponse\u001b[0m \u001b[1;33m=\u001b[0m \u001b[0murlopener\u001b[0m\u001b[1;33m(\u001b[0m\u001b[0mrequest\u001b[0m\u001b[1;33m,\u001b[0m \u001b[0mtimeout\u001b[0m\u001b[1;33m=\u001b[0m\u001b[0mself\u001b[0m\u001b[1;33m.\u001b[0m\u001b[0mtimeout\u001b[0m\u001b[1;33m)\u001b[0m\u001b[1;33m\u001b[0m\u001b[1;33m\u001b[0m\u001b[0m\n\u001b[0;32m   1072\u001b[0m             \u001b[1;32melse\u001b[0m\u001b[1;33m:\u001b[0m\u001b[1;33m\u001b[0m\u001b[1;33m\u001b[0m\u001b[0m\n\u001b[1;32m-> 1073\u001b[1;33m                 \u001b[0mresponse\u001b[0m \u001b[1;33m=\u001b[0m \u001b[0murlopener\u001b[0m\u001b[1;33m(\u001b[0m\u001b[0mrequest\u001b[0m\u001b[1;33m)\u001b[0m\u001b[1;33m\u001b[0m\u001b[1;33m\u001b[0m\u001b[0m\n\u001b[0m\u001b[0;32m   1074\u001b[0m             \u001b[1;32mreturn\u001b[0m \u001b[0mresponse\u001b[0m\u001b[1;33m,\u001b[0m \u001b[0mself\u001b[0m\u001b[1;33m.\u001b[0m\u001b[0mreturnFormat\u001b[0m\u001b[1;33m\u001b[0m\u001b[1;33m\u001b[0m\u001b[0m\n\u001b[0;32m   1075\u001b[0m         \u001b[1;32mexcept\u001b[0m \u001b[0murllib\u001b[0m\u001b[1;33m.\u001b[0m\u001b[0merror\u001b[0m\u001b[1;33m.\u001b[0m\u001b[0mHTTPError\u001b[0m \u001b[1;32mas\u001b[0m \u001b[0me\u001b[0m\u001b[1;33m:\u001b[0m\u001b[1;33m\u001b[0m\u001b[1;33m\u001b[0m\u001b[0m\n",
      "\u001b[1;32mc:\\users\\tanner\\appdata\\local\\programs\\python\\python37\\lib\\urllib\\request.py\u001b[0m in \u001b[0;36murlopen\u001b[1;34m(url, data, timeout, cafile, capath, cadefault, context)\u001b[0m\n\u001b[0;32m    220\u001b[0m     \u001b[1;32melse\u001b[0m\u001b[1;33m:\u001b[0m\u001b[1;33m\u001b[0m\u001b[1;33m\u001b[0m\u001b[0m\n\u001b[0;32m    221\u001b[0m         \u001b[0mopener\u001b[0m \u001b[1;33m=\u001b[0m \u001b[0m_opener\u001b[0m\u001b[1;33m\u001b[0m\u001b[1;33m\u001b[0m\u001b[0m\n\u001b[1;32m--> 222\u001b[1;33m     \u001b[1;32mreturn\u001b[0m \u001b[0mopener\u001b[0m\u001b[1;33m.\u001b[0m\u001b[0mopen\u001b[0m\u001b[1;33m(\u001b[0m\u001b[0murl\u001b[0m\u001b[1;33m,\u001b[0m \u001b[0mdata\u001b[0m\u001b[1;33m,\u001b[0m \u001b[0mtimeout\u001b[0m\u001b[1;33m)\u001b[0m\u001b[1;33m\u001b[0m\u001b[1;33m\u001b[0m\u001b[0m\n\u001b[0m\u001b[0;32m    223\u001b[0m \u001b[1;33m\u001b[0m\u001b[0m\n\u001b[0;32m    224\u001b[0m \u001b[1;32mdef\u001b[0m \u001b[0minstall_opener\u001b[0m\u001b[1;33m(\u001b[0m\u001b[0mopener\u001b[0m\u001b[1;33m)\u001b[0m\u001b[1;33m:\u001b[0m\u001b[1;33m\u001b[0m\u001b[1;33m\u001b[0m\u001b[0m\n",
      "\u001b[1;32mc:\\users\\tanner\\appdata\\local\\programs\\python\\python37\\lib\\urllib\\request.py\u001b[0m in \u001b[0;36mopen\u001b[1;34m(self, fullurl, data, timeout)\u001b[0m\n\u001b[0;32m    529\u001b[0m         \u001b[1;32mfor\u001b[0m \u001b[0mprocessor\u001b[0m \u001b[1;32min\u001b[0m \u001b[0mself\u001b[0m\u001b[1;33m.\u001b[0m\u001b[0mprocess_response\u001b[0m\u001b[1;33m.\u001b[0m\u001b[0mget\u001b[0m\u001b[1;33m(\u001b[0m\u001b[0mprotocol\u001b[0m\u001b[1;33m,\u001b[0m \u001b[1;33m[\u001b[0m\u001b[1;33m]\u001b[0m\u001b[1;33m)\u001b[0m\u001b[1;33m:\u001b[0m\u001b[1;33m\u001b[0m\u001b[1;33m\u001b[0m\u001b[0m\n\u001b[0;32m    530\u001b[0m             \u001b[0mmeth\u001b[0m \u001b[1;33m=\u001b[0m \u001b[0mgetattr\u001b[0m\u001b[1;33m(\u001b[0m\u001b[0mprocessor\u001b[0m\u001b[1;33m,\u001b[0m \u001b[0mmeth_name\u001b[0m\u001b[1;33m)\u001b[0m\u001b[1;33m\u001b[0m\u001b[1;33m\u001b[0m\u001b[0m\n\u001b[1;32m--> 531\u001b[1;33m             \u001b[0mresponse\u001b[0m \u001b[1;33m=\u001b[0m \u001b[0mmeth\u001b[0m\u001b[1;33m(\u001b[0m\u001b[0mreq\u001b[0m\u001b[1;33m,\u001b[0m \u001b[0mresponse\u001b[0m\u001b[1;33m)\u001b[0m\u001b[1;33m\u001b[0m\u001b[1;33m\u001b[0m\u001b[0m\n\u001b[0m\u001b[0;32m    532\u001b[0m \u001b[1;33m\u001b[0m\u001b[0m\n\u001b[0;32m    533\u001b[0m         \u001b[1;32mreturn\u001b[0m \u001b[0mresponse\u001b[0m\u001b[1;33m\u001b[0m\u001b[1;33m\u001b[0m\u001b[0m\n",
      "\u001b[1;32mc:\\users\\tanner\\appdata\\local\\programs\\python\\python37\\lib\\urllib\\request.py\u001b[0m in \u001b[0;36mhttp_response\u001b[1;34m(self, request, response)\u001b[0m\n\u001b[0;32m    639\u001b[0m         \u001b[1;32mif\u001b[0m \u001b[1;32mnot\u001b[0m \u001b[1;33m(\u001b[0m\u001b[1;36m200\u001b[0m \u001b[1;33m<=\u001b[0m \u001b[0mcode\u001b[0m \u001b[1;33m<\u001b[0m \u001b[1;36m300\u001b[0m\u001b[1;33m)\u001b[0m\u001b[1;33m:\u001b[0m\u001b[1;33m\u001b[0m\u001b[1;33m\u001b[0m\u001b[0m\n\u001b[0;32m    640\u001b[0m             response = self.parent.error(\n\u001b[1;32m--> 641\u001b[1;33m                 'http', request, response, code, msg, hdrs)\n\u001b[0m\u001b[0;32m    642\u001b[0m \u001b[1;33m\u001b[0m\u001b[0m\n\u001b[0;32m    643\u001b[0m         \u001b[1;32mreturn\u001b[0m \u001b[0mresponse\u001b[0m\u001b[1;33m\u001b[0m\u001b[1;33m\u001b[0m\u001b[0m\n",
      "\u001b[1;32mc:\\users\\tanner\\appdata\\local\\programs\\python\\python37\\lib\\urllib\\request.py\u001b[0m in \u001b[0;36merror\u001b[1;34m(self, proto, *args)\u001b[0m\n\u001b[0;32m    567\u001b[0m         \u001b[1;32mif\u001b[0m \u001b[0mhttp_err\u001b[0m\u001b[1;33m:\u001b[0m\u001b[1;33m\u001b[0m\u001b[1;33m\u001b[0m\u001b[0m\n\u001b[0;32m    568\u001b[0m             \u001b[0margs\u001b[0m \u001b[1;33m=\u001b[0m \u001b[1;33m(\u001b[0m\u001b[0mdict\u001b[0m\u001b[1;33m,\u001b[0m \u001b[1;34m'default'\u001b[0m\u001b[1;33m,\u001b[0m \u001b[1;34m'http_error_default'\u001b[0m\u001b[1;33m)\u001b[0m \u001b[1;33m+\u001b[0m \u001b[0morig_args\u001b[0m\u001b[1;33m\u001b[0m\u001b[1;33m\u001b[0m\u001b[0m\n\u001b[1;32m--> 569\u001b[1;33m             \u001b[1;32mreturn\u001b[0m \u001b[0mself\u001b[0m\u001b[1;33m.\u001b[0m\u001b[0m_call_chain\u001b[0m\u001b[1;33m(\u001b[0m\u001b[1;33m*\u001b[0m\u001b[0margs\u001b[0m\u001b[1;33m)\u001b[0m\u001b[1;33m\u001b[0m\u001b[1;33m\u001b[0m\u001b[0m\n\u001b[0m\u001b[0;32m    570\u001b[0m \u001b[1;33m\u001b[0m\u001b[0m\n\u001b[0;32m    571\u001b[0m \u001b[1;31m# XXX probably also want an abstract factory that knows when it makes\u001b[0m\u001b[1;33m\u001b[0m\u001b[1;33m\u001b[0m\u001b[1;33m\u001b[0m\u001b[0m\n",
      "\u001b[1;32mc:\\users\\tanner\\appdata\\local\\programs\\python\\python37\\lib\\urllib\\request.py\u001b[0m in \u001b[0;36m_call_chain\u001b[1;34m(self, chain, kind, meth_name, *args)\u001b[0m\n\u001b[0;32m    501\u001b[0m         \u001b[1;32mfor\u001b[0m \u001b[0mhandler\u001b[0m \u001b[1;32min\u001b[0m \u001b[0mhandlers\u001b[0m\u001b[1;33m:\u001b[0m\u001b[1;33m\u001b[0m\u001b[1;33m\u001b[0m\u001b[0m\n\u001b[0;32m    502\u001b[0m             \u001b[0mfunc\u001b[0m \u001b[1;33m=\u001b[0m \u001b[0mgetattr\u001b[0m\u001b[1;33m(\u001b[0m\u001b[0mhandler\u001b[0m\u001b[1;33m,\u001b[0m \u001b[0mmeth_name\u001b[0m\u001b[1;33m)\u001b[0m\u001b[1;33m\u001b[0m\u001b[1;33m\u001b[0m\u001b[0m\n\u001b[1;32m--> 503\u001b[1;33m             \u001b[0mresult\u001b[0m \u001b[1;33m=\u001b[0m \u001b[0mfunc\u001b[0m\u001b[1;33m(\u001b[0m\u001b[1;33m*\u001b[0m\u001b[0margs\u001b[0m\u001b[1;33m)\u001b[0m\u001b[1;33m\u001b[0m\u001b[1;33m\u001b[0m\u001b[0m\n\u001b[0m\u001b[0;32m    504\u001b[0m             \u001b[1;32mif\u001b[0m \u001b[0mresult\u001b[0m \u001b[1;32mis\u001b[0m \u001b[1;32mnot\u001b[0m \u001b[1;32mNone\u001b[0m\u001b[1;33m:\u001b[0m\u001b[1;33m\u001b[0m\u001b[1;33m\u001b[0m\u001b[0m\n\u001b[0;32m    505\u001b[0m                 \u001b[1;32mreturn\u001b[0m \u001b[0mresult\u001b[0m\u001b[1;33m\u001b[0m\u001b[1;33m\u001b[0m\u001b[0m\n",
      "\u001b[1;32mc:\\users\\tanner\\appdata\\local\\programs\\python\\python37\\lib\\urllib\\request.py\u001b[0m in \u001b[0;36mhttp_error_default\u001b[1;34m(self, req, fp, code, msg, hdrs)\u001b[0m\n\u001b[0;32m    647\u001b[0m \u001b[1;32mclass\u001b[0m \u001b[0mHTTPDefaultErrorHandler\u001b[0m\u001b[1;33m(\u001b[0m\u001b[0mBaseHandler\u001b[0m\u001b[1;33m)\u001b[0m\u001b[1;33m:\u001b[0m\u001b[1;33m\u001b[0m\u001b[1;33m\u001b[0m\u001b[0m\n\u001b[0;32m    648\u001b[0m     \u001b[1;32mdef\u001b[0m \u001b[0mhttp_error_default\u001b[0m\u001b[1;33m(\u001b[0m\u001b[0mself\u001b[0m\u001b[1;33m,\u001b[0m \u001b[0mreq\u001b[0m\u001b[1;33m,\u001b[0m \u001b[0mfp\u001b[0m\u001b[1;33m,\u001b[0m \u001b[0mcode\u001b[0m\u001b[1;33m,\u001b[0m \u001b[0mmsg\u001b[0m\u001b[1;33m,\u001b[0m \u001b[0mhdrs\u001b[0m\u001b[1;33m)\u001b[0m\u001b[1;33m:\u001b[0m\u001b[1;33m\u001b[0m\u001b[1;33m\u001b[0m\u001b[0m\n\u001b[1;32m--> 649\u001b[1;33m         \u001b[1;32mraise\u001b[0m \u001b[0mHTTPError\u001b[0m\u001b[1;33m(\u001b[0m\u001b[0mreq\u001b[0m\u001b[1;33m.\u001b[0m\u001b[0mfull_url\u001b[0m\u001b[1;33m,\u001b[0m \u001b[0mcode\u001b[0m\u001b[1;33m,\u001b[0m \u001b[0mmsg\u001b[0m\u001b[1;33m,\u001b[0m \u001b[0mhdrs\u001b[0m\u001b[1;33m,\u001b[0m \u001b[0mfp\u001b[0m\u001b[1;33m)\u001b[0m\u001b[1;33m\u001b[0m\u001b[1;33m\u001b[0m\u001b[0m\n\u001b[0m\u001b[0;32m    650\u001b[0m \u001b[1;33m\u001b[0m\u001b[0m\n\u001b[0;32m    651\u001b[0m \u001b[1;32mclass\u001b[0m \u001b[0mHTTPRedirectHandler\u001b[0m\u001b[1;33m(\u001b[0m\u001b[0mBaseHandler\u001b[0m\u001b[1;33m)\u001b[0m\u001b[1;33m:\u001b[0m\u001b[1;33m\u001b[0m\u001b[1;33m\u001b[0m\u001b[0m\n",
      "\u001b[1;31mHTTPError\u001b[0m: HTTP Error 429: Too Many Requests"
     ]
    }
   ],
   "source": [
    "query_string = \"\"\"\n",
    "SELECT\n",
    "  ?person ?personLabel ?sexgenderLabel\n",
    "WHERE\n",
    "{\n",
    "  ?person wdt:P3171 ?value .\n",
    "  OPTIONAL { ?person wdt:P21 ?sexgender . }\n",
    "  SERVICE wikibase:label { bd:serviceParam wikibase:language \"en\" . }\n",
    "}\n",
    "LIMIT 30000\n",
    "\"\"\"\n",
    "result=select(query_string)\n",
    "result.to_csv(\"Olympians_sex_or_gender.csv\")\n",
    "result"
   ]
  },
  {
   "cell_type": "markdown",
   "id": "d80d207b",
   "metadata": {},
   "source": [
    "## 1.3 Olympians with Sports"
   ]
  },
  {
   "cell_type": "code",
   "execution_count": null,
   "id": "c125fdeb",
   "metadata": {},
   "outputs": [],
   "source": [
    "query_string = \"\"\"\n",
    "SELECT\n",
    "  ?person ?personLabel (GROUP_CONCAT(?sportLabel;SEPARATOR=', ') AS ?sports)\n",
    "WHERE\n",
    "{\n",
    "  ?person wdt:P3171 ?value .\n",
    "  OPTIONAL { ?person wdt:P106 ?sport .\n",
    "    ?sport rdfs:label ?sportLabel . FILTER(LANG(?sportLabel)='en') }\n",
    "  SERVICE wikibase:label { bd:serviceParam wikibase:language \"en\" . }\n",
    "}\n",
    "GROUP BY ?person ?personLabel\n",
    "LIMIT 30000\n",
    "\"\"\"\n",
    "result=select(query_string)\n",
    "result.to_csv(\"Olympians_sports.csv\")\n",
    "result"
   ]
  },
  {
   "cell_type": "markdown",
   "id": "17eb4089",
   "metadata": {},
   "source": [
    "## 1.4 Olympians with All Demographic Categories"
   ]
  },
  {
   "cell_type": "code",
   "execution_count": null,
   "id": "17d60313",
   "metadata": {},
   "outputs": [],
   "source": [
    "query_string = \"\"\"\n",
    "SELECT\n",
    "  ?person ?personLabel ?sexgenderLabel (GROUP_CONCAT(?sportLabel;SEPARATOR=', ') AS ?sports)\n",
    "WHERE\n",
    "{\n",
    "  ?person wdt:P3171 ?value .\n",
    "  OPTIONAL { ?person wdt:P21 ?sexgender . }\n",
    "  OPTIONAL { ?person wdt:P106 ?sport .\n",
    "           ?sport rdfs:label ?sportLabel . FILTER(LANG(?sportLabel)='en') }\n",
    "  SERVICE wikibase:label { bd:serviceParam wikibase:language \"en\" . }\n",
    "}\n",
    "GROUP BY ?person ?personLabel ?sexgenderLabel\n",
    "LIMIT 30000\n",
    "\"\"\"\n",
    "result=select(query_string)\n",
    "result.to_csv(\"Olympians_complete.csv\")\n",
    "result"
   ]
  },
  {
   "cell_type": "markdown",
   "id": "2e9b99e5",
   "metadata": {},
   "source": [
    "## 2.1 People With Medical Conditions"
   ]
  },
  {
   "cell_type": "code",
   "execution_count": null,
   "id": "2d6e1074",
   "metadata": {},
   "outputs": [],
   "source": [
    "query_string = \"\"\"\n",
    "SELECT ?person ?personLabel (GROUP_CONCAT(DISTINCT ?conditionLabel;SEPARATOR=', ') AS ?conditions) \n",
    "WHERE\n",
    "{\n",
    "  ?person wdt:P31 wd:Q5 .\n",
    "  ?person wdt:P1050 ?condition .\n",
    "  ?condition rdfs:label ?conditionLabel . FILTER(LANG(?conditionLabel)='en')\n",
    "  SERVICE wikibase:label { bd:serviceParam wikibase:language \"en\" . }\n",
    "}\n",
    "GROUP BY ?person ?personLabel\n",
    "\"\"\"\n",
    "\n",
    "result=select(query_string)\n",
    "result.to_csv(\"Medical_conditions.csv\")\n",
    "result"
   ]
  },
  {
   "cell_type": "markdown",
   "id": "b71c8fd1",
   "metadata": {},
   "source": [
    "## 2.2 People With Medical Conditions and Sex or Gender"
   ]
  },
  {
   "cell_type": "code",
   "execution_count": null,
   "id": "0b074f5f",
   "metadata": {},
   "outputs": [],
   "source": [
    "query_string = \"\"\"\n",
    "SELECT \n",
    "  ?person ?personLabel ?sexgenderLabel (GROUP_CONCAT(DISTINCT ?conditionLabel;SEPARATOR=', ') AS ?conditions) \n",
    "WHERE\n",
    "{\n",
    "  ?person wdt:P31 wd:Q5 .\n",
    "  ?person wdt:P1050 ?condition .\n",
    "  ?condition rdfs:label ?conditionLabel . FILTER(LANG(?conditionLabel)='en')\n",
    "  OPTIONAL { ?person wdt:P21 ?sexgender . }\n",
    "  SERVICE wikibase:label { bd:serviceParam wikibase:language \"en\" . }\n",
    "}\n",
    "GROUP BY ?person ?personLabel ?sexgenderLabel\n",
    "\"\"\"\n",
    "\n",
    "result=select(query_string)\n",
    "result.to_csv(\"Medical_conditions_sex_or_gender.csv\")\n",
    "result"
   ]
  },
  {
   "cell_type": "markdown",
   "id": "2affb5e2",
   "metadata": {},
   "source": [
    "## 2.3 People With Medical Conditions and Cause of Death"
   ]
  },
  {
   "cell_type": "code",
   "execution_count": null,
   "id": "88a9cacf",
   "metadata": {},
   "outputs": [],
   "source": [
    "query_string = \"\"\"\n",
    "SELECT ?person ?personLabel (GROUP_CONCAT(DISTINCT ?conditionLabel;SEPARATOR=', ') AS ?conditions) (GROUP_CONCAT(DISTINCT ?causedeathLabel;SEPARATOR=', ') AS ?causedeath)\n",
    "WHERE\n",
    "{\n",
    "  ?person wdt:P31 wd:Q5 .\n",
    "  ?person wdt:P1050 ?condition .\n",
    "  ?condition rdfs:label ?conditionLabel . FILTER(LANG(?conditionLabel)='en')\n",
    "  OPTIONAL { ?person wdt:P509 ?causedeath .\n",
    "           ?causedeath rdfs:label ?causedeathLabel . FILTER(LANG(?causedeathLabel)='en') }\n",
    "  SERVICE wikibase:label { bd:serviceParam wikibase:language \"en\" . }\n",
    "}\n",
    "GROUP BY ?person ?personLabel\n",
    "\"\"\"\n",
    "\n",
    "result=select(query_string)\n",
    "result.to_csv(\"Medical_conditions_cause_of_death.csv\")\n",
    "result"
   ]
  },
  {
   "cell_type": "markdown",
   "id": "1ac5f056",
   "metadata": {},
   "source": [
    "## 2.4 People With Sexually-Transmitted Infections"
   ]
  },
  {
   "cell_type": "code",
   "execution_count": null,
   "id": "ffd99e3f",
   "metadata": {},
   "outputs": [],
   "source": [
    "query_string = \"\"\"\n",
    "SELECT ?person ?personLabel (GROUP_CONCAT(DISTINCT ?conditionLabel;SEPARATOR=', ') AS ?conditions) \n",
    "WHERE\n",
    "{\n",
    "  ?person wdt:P31 wd:Q5 .\n",
    "  ?person wdt:P1050 ?condition .\n",
    "  ?condition wdt:P279 wd:Q12198 .\n",
    "  ?condition rdfs:label ?conditionLabel . FILTER(LANG(?conditionLabel)='en')\n",
    "  SERVICE wikibase:label { bd:serviceParam wikibase:language \"en\" . }\n",
    "}\n",
    "GROUP BY ?person ?personLabel\n",
    "\"\"\"\n",
    "\n",
    "result=select(query_string)\n",
    "result.to_csv(\"Medical_conditions_STIs.csv\")\n",
    "result"
   ]
  },
  {
   "cell_type": "markdown",
   "id": "7149ca3a",
   "metadata": {},
   "source": [
    "## 2.5 People With STIs, Sex or Gender, and Cause of Death"
   ]
  },
  {
   "cell_type": "code",
   "execution_count": null,
   "id": "40b18826",
   "metadata": {},
   "outputs": [],
   "source": [
    "query_string = \"\"\"\n",
    "SELECT ?person ?personLabel ?sexgenderLabel (GROUP_CONCAT(DISTINCT ?conditionLabel;SEPARATOR=', ') AS ?conditions) \n",
    "  (GROUP_CONCAT(DISTINCT ?causedeathLabel;SEPARATOR=', ') AS ?causedeath)\n",
    "WHERE\n",
    "{\n",
    "  ?person wdt:P31 wd:Q5 .\n",
    "  OPTIONAL { ?person wdt:P21 ?sexgender . }\n",
    "  ?person wdt:P1050 ?condition .\n",
    "  ?condition wdt:P279+ wd:Q12198 .\n",
    "  ?condition rdfs:label ?conditionLabel . FILTER(LANG(?conditionLabel)='en')\n",
    "  OPTIONAL { ?person wdt:P509 ?causedeath .\n",
    "           ?causedeath rdfs:label ?causedeathLabel . FILTER(LANG(?causedeathLabel)='en') }\n",
    "  SERVICE wikibase:label { bd:serviceParam wikibase:language \"en\" . }\n",
    "}\n",
    "GROUP BY ?person ?personLabel ?sexgenderLabel\n",
    "ORDER BY ?personLabel\n",
    "\"\"\"\n",
    "\n",
    "result=select(query_string)\n",
    "result.to_csv(\"Medical_conditions_STIs_complete.csv\")\n",
    "result"
   ]
  },
  {
   "cell_type": "markdown",
   "id": "73dc29dd",
   "metadata": {},
   "source": [
    "## 3.1 University of Virginia Employees"
   ]
  },
  {
   "cell_type": "code",
   "execution_count": null,
   "id": "1bddb906",
   "metadata": {},
   "outputs": [],
   "source": [
    "query_string = \"\"\"\n",
    "SELECT\n",
    "  ?person ?personLabel\n",
    "WHERE\n",
    "{\n",
    "  ?person wdt:P108 wd:Q213439 .\n",
    "  ?person rdfs:label ?personLabel . FILTER(LANG(?personLabel)='en')\n",
    "}\n",
    "\"\"\"\n",
    "result=select(query_string)\n",
    "result.to_csv(\"UVA_employees.csv\")\n",
    "result"
   ]
  },
  {
   "cell_type": "markdown",
   "id": "84e7940b",
   "metadata": {},
   "source": [
    "## 3.2 UVA Employees with Sex or Gender"
   ]
  },
  {
   "cell_type": "code",
   "execution_count": null,
   "id": "3d2c828b",
   "metadata": {},
   "outputs": [],
   "source": [
    "query_string = \"\"\"\n",
    "SELECT\n",
    "  ?person ?personLabel ?sexorgender\n",
    "WHERE\n",
    "{\n",
    "  ?person wdt:P108 wd:Q213439 .\n",
    "  ?person rdfs:label ?personLabel . FILTER(LANG(?personLabel)='en')\n",
    "  OPTIONAL { ?person wdt:P21 ?value .\n",
    "    ?value rdfs:label ?sexorgender . FILTER(LANG(?sexorgender)='en') }\n",
    "}\n",
    "\"\"\"\n",
    "result=select(query_string)\n",
    "result.to_csv(\"UVA_employees_sex_or_gender.csv\")\n",
    "result"
   ]
  },
  {
   "cell_type": "markdown",
   "id": "84c753fc",
   "metadata": {},
   "source": [
    "## 3.3 UVA Employees with Ethnicity"
   ]
  },
  {
   "cell_type": "code",
   "execution_count": null,
   "id": "1a33b334",
   "metadata": {},
   "outputs": [],
   "source": [
    "query_string = \"\"\"\n",
    "SELECT\n",
    "  ?person ?personLabel (GROUP_CONCAT(DISTINCT ?ethnicityLabel;SEPARATOR=', ') AS ?ethnicity)\n",
    "WHERE\n",
    "{\n",
    "  ?person wdt:P108 wd:Q213439 .\n",
    "  ?person rdfs:label ?personLabel . FILTER(LANG(?personLabel)='en')\n",
    "  OPTIONAL { ?person wdt:P172 ?ethnicity .\n",
    "    ?ethnicity rdfs:label ?ethnicityLabel . FILTER(LANG(?ethnicityLabel)='en') }\n",
    "}\n",
    "GROUP BY ?person ?personLabel\n",
    "\"\"\"\n",
    "result=select(query_string)\n",
    "result.to_csv(\"UVA_employees_ethnicity.csv\")\n",
    "result"
   ]
  },
  {
   "cell_type": "markdown",
   "id": "86a9b3e9",
   "metadata": {},
   "source": [
    "## 3.4 UVA Employees with Birthplace"
   ]
  },
  {
   "cell_type": "code",
   "execution_count": null,
   "id": "ed01d95e",
   "metadata": {},
   "outputs": [],
   "source": [
    "query_string = \"\"\"\n",
    "SELECT\n",
    "  ?person ?personLabel ?birthplace\n",
    "WHERE\n",
    "{\n",
    "  ?person wdt:P108 wd:Q213439 .\n",
    "  ?person rdfs:label ?personLabel . FILTER(LANG(?personLabel)='en')\n",
    "  OPTIONAL { ?person wdt:P19 ?value . \n",
    "    ?value rdfs:label ?birthplace . FILTER(LANG(?birthplace)='en') }\n",
    "}\n",
    "\"\"\"\n",
    "result=select(query_string)\n",
    "result.to_csv(\"UVA_employees_birthplace.csv\")\n",
    "result"
   ]
  },
  {
   "cell_type": "markdown",
   "id": "d9819489",
   "metadata": {},
   "source": [
    "## 3.5 UVA Employees with Citizenship"
   ]
  },
  {
   "cell_type": "code",
   "execution_count": null,
   "id": "65d2099c",
   "metadata": {},
   "outputs": [],
   "source": [
    "query_string = \"\"\"\n",
    "SELECT\n",
    "  ?person ?personLabel (GROUP_CONCAT(DISTINCT ?citizenshipLabel;SEPARATOR=', ') AS ?citizenship)\n",
    "WHERE\n",
    "{\n",
    "  ?person wdt:P108 wd:Q213439 .\n",
    "  ?person rdfs:label ?personLabel . FILTER(LANG(?personLabel)='en')\n",
    "  OPTIONAL { ?person wdt:P27 ?citizenship .\n",
    "    ?citizenship rdfs:label ?citizenshipLabel . FILTER(LANG(?citizenshipLabel)='en') }\n",
    "}\n",
    "GROUP BY ?person ?personLabel\n",
    "\"\"\"\n",
    "result=select(query_string)\n",
    "result.to_csv(\"UVA_employees_birthplace.csv\")\n",
    "result"
   ]
  },
  {
   "cell_type": "markdown",
   "id": "27cbb85d",
   "metadata": {},
   "source": [
    "## 3.6 UVA Employees with Religion"
   ]
  },
  {
   "cell_type": "code",
   "execution_count": null,
   "id": "e4bd1aa9",
   "metadata": {},
   "outputs": [],
   "source": [
    "query_string = \"\"\"\n",
    "SELECT\n",
    "  ?person ?personLabel ?religion\n",
    "WHERE\n",
    "{\n",
    "  ?person wdt:P108 wd:Q213439 .\n",
    "  ?person rdfs:label ?personLabel . FILTER(LANG(?personLabel)='en')\n",
    "  OPTIONAL { ?person wdt:P140 ?value .\n",
    "    ?value rdfs:label ?religion . FILTER(LANG(?religion)='en') }\n",
    "}\n",
    "\"\"\"\n",
    "result=select(query_string)\n",
    "result.to_csv(\"UVA_employees_religion.csv\")\n",
    "result"
   ]
  },
  {
   "cell_type": "markdown",
   "id": "c4591851",
   "metadata": {},
   "source": [
    "## 3.7 UVA Employees with Sexuality"
   ]
  },
  {
   "cell_type": "code",
   "execution_count": null,
   "id": "77bb2c5f",
   "metadata": {},
   "outputs": [],
   "source": [
    "query_string = \"\"\"\n",
    "SELECT\n",
    "  ?person ?personLabel ?sexuality\n",
    "WHERE\n",
    "{\n",
    "  ?person wdt:P108 wd:Q213439 .\n",
    "  ?person rdfs:label ?personLabel . FILTER(LANG(?personLabel)='en')\n",
    "  OPTIONAL { ?person wdt:P91 ?value4 .\n",
    "    ?value4 rdfs:label ?sexuality . FILTER(LANG(?sexuality)='en') }\n",
    "}\n",
    "\"\"\"\n",
    "result=select(query_string)\n",
    "result.to_csv(\"UVA_employees_sexuality.csv\")\n",
    "result"
   ]
  },
  {
   "cell_type": "markdown",
   "id": "24128b37",
   "metadata": {},
   "source": [
    "## 3.8 UVA Employees with All Demographic Categories"
   ]
  },
  {
   "cell_type": "code",
   "execution_count": null,
   "id": "fe8972bb",
   "metadata": {},
   "outputs": [],
   "source": [
    "query_string = \"\"\"\n",
    "SELECT\n",
    "  ?person ?personLabel ?sexorgender (GROUP_CONCAT(DISTINCT ?ethnicityLabel;SEPARATOR=', ') AS ?ethnicity) \n",
    "  ?birthplace (GROUP_CONCAT(DISTINCT ?citizenshipLabel;SEPARATOR=', ') AS ?citizenship) ?religion \n",
    "  ?sexuality\n",
    "WHERE\n",
    "{\n",
    "  ?person wdt:P108 wd:Q213439 .\n",
    "  ?person rdfs:label ?personLabel . FILTER(LANG(?personLabel)='en')\n",
    "  OPTIONAL { ?person wdt:P21 ?value .\n",
    "           ?value rdfs:label ?sexorgender . FILTER(LANG(?sexorgender)='en') }\n",
    "  OPTIONAL { ?person wdt:P172 ?ethnicity .\n",
    "           ?ethnicity rdfs:label ?ethnicityLabel . FILTER(LANG(?ethnicityLabel)='en') }\n",
    "  OPTIONAL { ?person wdt:P19 ?value2 . \n",
    "           ?value2 rdfs:label ?birthplace . FILTER(LANG(?birthplace)='en') }\n",
    "  OPTIONAL { ?person wdt:P27 ?citizenship .\n",
    "           ?citizenship rdfs:label ?citizenshipLabel . FILTER(LANG(?citizenshipLabel)='en') }\n",
    "  OPTIONAL { ?person wdt:P140 ?value3 .\n",
    "           ?value3 rdfs:label ?religion . FILTER(LANG(?religion)='en') }\n",
    "  OPTIONAL { ?person wdt:P91 ?value4 .\n",
    "           ?value4 rdfs:label ?sexuality . FILTER(LANG(?sexuality)='en') }\n",
    "}\n",
    "GROUP BY ?person ?personLabel ?sexorgender ?birthplace ?religion ?sexuality\n",
    "\"\"\"\n",
    "\n",
    "result=select(query_string)\n",
    "result.to_csv(\"UVA_employees_complete.csv\")\n",
    "result"
   ]
  }
 ],
 "metadata": {
  "kernelspec": {
   "display_name": "Python 3 (ipykernel)",
   "language": "python",
   "name": "python3"
  },
  "language_info": {
   "codemirror_mode": {
    "name": "ipython",
    "version": 3
   },
   "file_extension": ".py",
   "mimetype": "text/x-python",
   "name": "python",
   "nbconvert_exporter": "python",
   "pygments_lexer": "ipython3",
   "version": "3.7.1"
  }
 },
 "nbformat": 4,
 "nbformat_minor": 5
}
